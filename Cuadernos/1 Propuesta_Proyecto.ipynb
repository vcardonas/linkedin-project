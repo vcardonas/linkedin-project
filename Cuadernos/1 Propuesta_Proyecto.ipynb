{
  "cells": [
    {
      "attachments": {},
      "cell_type": "markdown",
      "id": "643905ba",
      "metadata": {},
      "source": [
        "# **<center>PROPUESTA PROYECTO</center>**\n",
        "**<center> ¿Qué habilidades y herramientas son las más demandadas para el puesto de Analista de Datos en Colombia? </center>**"
      ]
    },
    {
      "attachments": {},
      "cell_type": "markdown",
      "metadata": {
        "id": "HBbC_-c7t8H_"
      },
      "source": [
        "***Por: Valentina Cardona y Juan David Ricaurte***"
      ]
    },
    {
      "attachments": {},
      "cell_type": "markdown",
      "metadata": {
        "id": "Im0JVIzduoxx"
      },
      "source": [
        "***Asesor: Alvaro Montenegro***"
      ]
    },
    {
      "attachments": {},
      "cell_type": "markdown",
      "metadata": {
        "id": "F05BPzu1uxSA"
      },
      "source": [
        "## **INTRODUCCIÓN**"
      ]
    },
    {
      "cell_type": "markdown",
      "metadata": {
        "id": "fu5oSzSrvmLv"
      },
      "source": [
        "La ciencia de datos está convirtiéndose en una de las profesiones más prometedoras de hoy en día. La fiebre de los datos ha hecho que empecemos a escuchar hablar de esta disciplina por todos lados.\n",
        "\n",
        "Los científicos de datos tienen un alto nivel educativo, según [burtchworks](https://www.burtchworks.com/big-data-analyst-salary/big-data-career-tips/the-burtch-works-study/), el 94 % tiene al menos una maestría y el 43 % tiene un doctorado, y aunque hay algunas excepciones, la mayoría de los empleadores aún consideran que una sólida formación académica es un requisito para desarrollar la profundidad de conocimientos necesarios para ser un científico de datos. Así mismo, los campos de estudio más comunes de estas profesiones fueron Matemáticas y Estadística (25%), seguidos de cerca por Ingeniería (24%), Informática (22%) o Ciencias Naturales como la Física (16%). \n",
        "\n",
        "No obstante, cada empresa tendrá sus propias prioridades cuando se trata de diferentes habilidades, y esto incluye conocimientos técnicos, de la industria, educación y habilidades intangibles (como el comportamiento profesional y la comunicación). Además, la tecnología está cambiando más rápido que nunca y surgen nuevas herramientas todo el tiempo. De la misma forma, un analista o científico de datos senior es diferente a uno junior y, por tanto, sus habilidades o herramientas solicitadas en las ofertas de empleo serán distintas."
      ]
    },
    {
      "attachments": {},
      "cell_type": "markdown",
      "metadata": {
        "id": "di7Usd-ru1XL"
      },
      "source": [
        "## **DESCRIPCIÓN DEL PROBLEMA**"
      ]
    },
    {
      "attachments": {},
      "cell_type": "markdown",
      "metadata": {
        "id": "vpprimyZ3_da"
      },
      "source": [
        "Qué se necesita para ser un analista de datos es una de las preguntas que más se hace un principiante. Sin embargo, algunas ofertas de empleo de analistas junior solicitan másters especializados, o experiencia previa. A veces solicitan una serie absurda de conocimientos técnicos, o conocimiento tan técnico que hace dudar de si necesitan más un data engineer que un data scientist. Esto último desorienta a las personas que se están introduciendo o quieren introducirse a este mundo. \n",
        "\n",
        "Por tanto, en el presente proyecto se pretente conocer qué habilidades técnicas y no técnicas se solicitan más para los puestos de analistas de datos, dando lugar a un análisis crítico sobre las oportunidades laborales y las posibilidades que existen para formarse en el contexto colombiano."
      ]
    },
    {
      "attachments": {},
      "cell_type": "markdown",
      "metadata": {
        "id": "S-0P8kH5u4xH"
      },
      "source": [
        "## **FUENTE DE DATOS**"
      ]
    },
    {
      "attachments": {},
      "cell_type": "markdown",
      "metadata": {
        "id": "5sMa9E_6yfBC"
      },
      "source": [
        "Datos públicos de perfiles de empleo de [LinkedIn](https://www.linkedin.com/), ubicados en territorio Colombiano, para \"Analista de Datos\" con nivel de experiencia bajo."
      ]
    },
    {
      "attachments": {},
      "cell_type": "markdown",
      "metadata": {
        "id": "DzexDl8ru7zZ"
      },
      "source": [
        "## **PROCESAMIENTO ETL**"
      ]
    },
    {
      "attachments": {},
      "cell_type": "markdown",
      "metadata": {
        "id": "BIP44OlBAHwf"
      },
      "source": [
        "- Creación de perfil falso ya que, pese a que es [legal](https://www.forbes.com/sites/zacharysmith/2022/04/18/scraping-data-from-linkedin-profiles-is-legal-appeals-court-rules/?sh=45913a722a9c), algunos sitios suelen banear a bots de web scraping.\n",
        "- Ecuaciones de búsqueda que delimiten los empleos.\n",
        "- Utilizar la librería Selenium en Python para extraer la siguiente información de los perfiles:\n",
        "  *   Habilidades requeridas.\n",
        "  *   Nivel de experiencia.\n",
        "  *   Área o mercado de trabajo.\n",
        "  *   Localidad del empleo.\n",
        "- Almacenamiento de los datos.\n",
        "- Limpieza y minería de datos."
      ]
    },
    {
      "attachments": {},
      "cell_type": "markdown",
      "metadata": {
        "id": "5Cj-oiSivA5b"
      },
      "source": [
        "## **EXPLORACIÓN DE LOS DATOS**"
      ]
    },
    {
      "cell_type": "markdown",
      "metadata": {
        "id": "HBcLaLqB_WZH"
      },
      "source": [
        "1.   Leer los perfiles y texto.\n",
        "1.   Análisis descriptivo (estadísticas de los textos). \n",
        "1.   Detectar cuáles palabras más frecuentes corresponden a las habilidades.\n",
        "1.   Clustering sobre lenguaje natural para identificar grupos diferenciados."
      ]
    },
    {
      "cell_type": "markdown",
      "metadata": {
        "id": "NmTotcexvFqK"
      },
      "source": [
        "# Técnicas de modelación propuestas"
      ]
    },
    {
      "cell_type": "markdown",
      "metadata": {
        "id": "sjMRbT6O_XZ6"
      },
      "source": [
        "- Técnicas de lenguaje natural.\n",
        "- Técnicas de clústering.\n",
        "- Extracción de las palabras"
      ]
    },
    {
      "cell_type": "markdown",
      "metadata": {
        "id": "Z4H0PH0TvJ30"
      },
      "source": [
        "# Conocimientos requeridos para el desarrollo del proyecto"
      ]
    },
    {
      "attachments": {},
      "cell_type": "markdown",
      "metadata": {
        "id": "qWIuF6bMvMpw"
      },
      "source": [
        "- Python: nivel medio.\n",
        "- Librería Selenium.\n",
        "- Modelos supervisados: explicativos o predictivos."
      ]
    },
    {
      "cell_type": "markdown",
      "metadata": {
        "id": "XXrTK5kOvOwM"
      },
      "source": [
        "# Resultados esperados"
      ]
    },
    {
      "cell_type": "markdown",
      "metadata": {
        "id": "IJLKT9a1-aBp"
      },
      "source": [
        "Visualización sobre el perfil pedido por las bolsas de empleo en Colombia para aplicar a un puesto de analista o cientifico(a) de datos, agrupaciones por peso de estas variables."
      ]
    },
    {
      "cell_type": "markdown",
      "metadata": {
        "id": "Y1zMjTL3vRm7"
      },
      "source": [
        "# <center> **Tiempo de desarrollo esperado:** 3 semanas (o menos). </center>"
      ]
    }
  ],
  "metadata": {
    "colab": {
      "provenance": []
    },
    "kernelspec": {
      "display_name": "Python 3 (ipykernel)",
      "language": "python",
      "name": "python3"
    }
  },
  "nbformat": 4,
  "nbformat_minor": 0
}
